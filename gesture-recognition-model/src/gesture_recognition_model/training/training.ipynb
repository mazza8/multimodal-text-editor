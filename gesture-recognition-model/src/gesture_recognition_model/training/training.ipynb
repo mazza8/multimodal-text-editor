{
 "cells": [
  {
   "cell_type": "code",
   "execution_count": null,
   "id": "451376e8",
   "metadata": {
    "scrolled": true
   },
   "outputs": [],
   "source": [
    "import pandas as pd\n",
    "from torch.utils.data import Dataset\n",
    "import glob\n",
    "from sklearn.model_selection import StratifiedShuffleSplit\n",
    "from torch.utils.data import DataLoader\n",
    "from torch import nn\n",
    "import torch\n",
    "from tqdm import tqdm"
   ]
  },
  {
   "cell_type": "code",
   "execution_count": null,
   "id": "fe3945ec",
   "metadata": {},
   "outputs": [],
   "source": [
    "import wandb"
   ]
  },
  {
   "cell_type": "code",
   "execution_count": null,
   "id": "b01e816c",
   "metadata": {},
   "outputs": [],
   "source": [
    "class HandLandmarksDataset(Dataset):\n",
    "    def __init__(self, X, Y):\n",
    "        self.X = X\n",
    "        self.Y = Y\n",
    "\n",
    "    def __len__(self):\n",
    "        return len(self.X)\n",
    "\n",
    "    def __getitem__(self, idx):\n",
    "        X = torch.from_numpy(self.X[idx, :])\n",
    "        Y = self.Y[idx]\n",
    "        return X, Y"
   ]
  },
  {
   "cell_type": "code",
   "execution_count": null,
   "id": "65ad6eb4",
   "metadata": {
    "scrolled": true
   },
   "outputs": [],
   "source": [
    "img_labels = pd.read_csv(\"../data_collection/data/gestures.csv\")\n",
    "columns = list(img_labels.drop(columns=[\"filename\", \"label\"]).columns)"
   ]
  },
  {
   "cell_type": "code",
   "execution_count": null,
   "id": "3e80de9f",
   "metadata": {},
   "outputs": [],
   "source": [
    "X = img_labels[columns].values.astype(\"float32\")"
   ]
  },
  {
   "cell_type": "code",
   "execution_count": null,
   "id": "f81529d6",
   "metadata": {},
   "outputs": [],
   "source": [
    "Y = img_labels.label.values"
   ]
  },
  {
   "cell_type": "code",
   "execution_count": null,
   "id": "75752393",
   "metadata": {},
   "outputs": [],
   "source": [
    "sss = StratifiedShuffleSplit(n_splits=1, test_size=0.15, random_state=42)"
   ]
  },
  {
   "cell_type": "code",
   "execution_count": null,
   "id": "4df67d3a",
   "metadata": {},
   "outputs": [],
   "source": [
    "train_index, test_index = list(sss.split(X, Y))[0]"
   ]
  },
  {
   "cell_type": "code",
   "execution_count": null,
   "id": "2eef3ecb",
   "metadata": {},
   "outputs": [],
   "source": [
    "X_train = X[train_index, :]\n",
    "Y_train = Y[train_index]\n",
    "X_test = X[test_index, :]\n",
    "Y_test = Y[test_index]"
   ]
  },
  {
   "cell_type": "code",
   "execution_count": null,
   "id": "c83697ac",
   "metadata": {},
   "outputs": [],
   "source": [
    "sss = StratifiedShuffleSplit(n_splits=1, test_size=Y_test.shape[0]/X_train.shape[0], random_state=42)"
   ]
  },
  {
   "cell_type": "code",
   "execution_count": null,
   "id": "d2c8ee89",
   "metadata": {},
   "outputs": [],
   "source": [
    "train_index, valid_index = list(sss.split(X_train, Y_train))[0]"
   ]
  },
  {
   "cell_type": "code",
   "execution_count": null,
   "id": "7ba7b6c7",
   "metadata": {},
   "outputs": [],
   "source": [
    "X_train = X[train_index, :]\n",
    "Y_train = Y[train_index]\n",
    "X_valid = X[valid_index, :]\n",
    "Y_valid = Y[valid_index]"
   ]
  },
  {
   "cell_type": "code",
   "execution_count": null,
   "id": "20e0b928",
   "metadata": {},
   "outputs": [],
   "source": [
    "training_data = HandLandmarksDataset(X_train, Y_train)\n",
    "test_data = HandLandmarksDataset(X_valid, Y_valid)\n",
    "valid_data = HandLandmarksDataset(X_test, Y_test)"
   ]
  },
  {
   "cell_type": "code",
   "execution_count": null,
   "id": "0b60350d",
   "metadata": {},
   "outputs": [],
   "source": [
    "train_dataloader = DataLoader(training_data, batch_size=512, shuffle=True)\n",
    "test_dataloader = DataLoader(test_data, batch_size=128, shuffle=True)"
   ]
  },
  {
   "cell_type": "code",
   "execution_count": null,
   "id": "ea26d9df",
   "metadata": {},
   "outputs": [],
   "source": [
    "valid_dataloader = DataLoader(valid_data, batch_size=512, shuffle=True)"
   ]
  },
  {
   "cell_type": "code",
   "execution_count": null,
   "id": "e4f94d41",
   "metadata": {},
   "outputs": [],
   "source": [
    "class HandModel(nn.Module):\n",
    "    def __init__(self):\n",
    "        super().__init__()\n",
    "        self.linear1 = nn.Linear(63, 21)\n",
    "        nn.init.xavier_uniform_(self.linear1.weight)\n",
    "        self.linear2 = nn.Linear(21, 6)\n",
    "        nn.init.xavier_uniform_(self.linear2.weight)\n",
    "\n",
    "        \n",
    "    def forward(self, x):\n",
    "        logits = self.linear2(nn.functional.leaky_relu(self.linear1(x)))\n",
    "\n",
    "        return logits"
   ]
  },
  {
   "cell_type": "code",
   "execution_count": null,
   "id": "cbee0e7c",
   "metadata": {},
   "outputs": [],
   "source": [
    "model = HandModel()"
   ]
  },
  {
   "cell_type": "code",
   "execution_count": null,
   "id": "2f4d0b6f",
   "metadata": {},
   "outputs": [],
   "source": [
    "criterion = nn.CrossEntropyLoss()\n",
    "optimizer = torch.optim.Adam(model.parameters(), lr=0.001)"
   ]
  },
  {
   "cell_type": "code",
   "execution_count": null,
   "id": "8cd3e1ea",
   "metadata": {},
   "outputs": [],
   "source": [
    "wandb.init(project=\"multimodal\", entity=\"mazza\")\n",
    "wandb.config = {\n",
    "  \"learning_rate\": 0.001,\n",
    "  \"epochs\": 5000,\n",
    "  \"batch_size\": 512\n",
    "}\n",
    "wandb.watch(model)\n"
   ]
  },
  {
   "cell_type": "code",
   "execution_count": null,
   "id": "f2dcc4fa",
   "metadata": {},
   "outputs": [],
   "source": []
  },
  {
   "cell_type": "code",
   "execution_count": null,
   "id": "7afd825b",
   "metadata": {
    "scrolled": false
   },
   "outputs": [
    {
     "name": "stderr",
     "output_type": "stream",
     "text": [
      "wandb: Network error (ConnectionError), entering retry loop.\n"
     ]
    }
   ],
   "source": [
    "N_EPOCHS = 5000\n",
    "EARLY_STOPPING = 500\n",
    "best_loss = 5\n",
    "stopping_count = 0\n",
    "for epoch in tqdm(range(N_EPOCHS)):\n",
    "    for i, (inputs, targets) in tqdm(enumerate(train_dataloader)):\n",
    "        optimizer.zero_grad()\n",
    "        yhat = model(inputs)\n",
    "        loss = criterion(yhat, targets)\n",
    "        loss.backward()\n",
    "        optimizer.step()\n",
    "    model.eval()\n",
    "    with torch.no_grad():\n",
    "        for X, y in valid_dataloader:\n",
    "            pred = model(X)\n",
    "            valid_loss = criterion(pred, y).item()\n",
    "        if valid_loss < best_loss:\n",
    "            best_loss = valid_loss\n",
    "            stopping_count = 0\n",
    "            \n",
    "            torch.onnx.export(model,               \n",
    "                              dummy_input,                         \n",
    "                              \"super_resolution.onnx\",   \n",
    "                              export_params=True,      \n",
    "                              opset_version=10,         \n",
    "                              do_constant_folding=True,  \n",
    "                              input_names = ['input'],   \n",
    "                              output_names = ['output'],\n",
    "                              dynamic_axes={'input' : {0 : 'batch_size'},    \n",
    "                                            'output' : {0 : 'batch_size'}})\n",
    "        else:\n",
    "            stopping_count += 1\n",
    "        if stopping_count > EARLY_STOPPING:\n",
    "            break\n",
    "    wandb.log({\"valid_loss\": valid_loss, \"last_batch_train_loss\": loss})"
   ]
  },
  {
   "cell_type": "code",
   "execution_count": null,
   "id": "1445fb61",
   "metadata": {},
   "outputs": [],
   "source": []
  },
  {
   "cell_type": "code",
   "execution_count": null,
   "id": "833c0cc6",
   "metadata": {},
   "outputs": [],
   "source": []
  },
  {
   "cell_type": "code",
   "execution_count": null,
   "id": "bc842ad9",
   "metadata": {},
   "outputs": [],
   "source": []
  }
 ],
 "metadata": {
  "kernelspec": {
   "display_name": "gesture",
   "language": "python",
   "name": "gesture"
  },
  "language_info": {
   "codemirror_mode": {
    "name": "ipython",
    "version": 3
   },
   "file_extension": ".py",
   "mimetype": "text/x-python",
   "name": "python",
   "nbconvert_exporter": "python",
   "pygments_lexer": "ipython3",
   "version": "3.8.13"
  }
 },
 "nbformat": 4,
 "nbformat_minor": 5
}
